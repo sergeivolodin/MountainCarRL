{
 "cells": [
  {
   "cell_type": "code",
   "execution_count": null,
   "metadata": {
    "collapsed": true
   },
   "outputs": [],
   "source": [
    "import sys\n",
    "%matplotlib qt5\n",
    "import pylab as plb\n",
    "from matplotlib import pyplot as plt\n",
    "import numpy as np\n",
    "import mountaincar"
   ]
  },
  {
   "cell_type": "code",
   "execution_count": null,
   "metadata": {
    "collapsed": true
   },
   "outputs": [],
   "source": [
    "class DummyAgent():\n",
    "    \"\"\"A not so good agent for the mountain-car task.\n",
    "    \"\"\"\n",
    "\n",
    "    def __init__(self, mountain_car = None, parameter1 = 3.0):\n",
    "        \n",
    "        if mountain_car is None:\n",
    "            self.mountain_car = mountaincar.MountainCar()\n",
    "        else:\n",
    "            self.mountain_car = mountain_car\n",
    "\n",
    "        self.parameter1 = parameter1\n",
    "\n",
    "    def visualize_trial(self, n_steps = 200):\n",
    "        \"\"\"Do a trial without learning, with display.\n",
    "\n",
    "        Parameters\n",
    "        ----------\n",
    "        n_steps -- number of steps to simulate for\n",
    "        \"\"\"\n",
    "        \n",
    "        # prepare for the visualization\n",
    "        plb.ion()\n",
    "        mv = mountaincar.MountainCarViewer(self.mountain_car)\n",
    "        mv.create_figure(n_steps, n_steps)\n",
    "        plb.draw()\n",
    "        plb.pause(1e-3)\n",
    "            \n",
    "        # make sure the mountain-car is reset\n",
    "        self.mountain_car.reset()\n",
    "\n",
    "        for n in range(n_steps):\n",
    "            print('\\rt =', self.mountain_car.t,)\n",
    "            sys.stdout.flush()\n",
    "            \n",
    "            # choose a random action\n",
    "            self.mountain_car.apply_force(np.random.randint(3) - 1)\n",
    "            # simulate the timestep\n",
    "            self.mountain_car.simulate_timesteps(100, 0.01)\n",
    "\n",
    "            # update the visualization\n",
    "            mv.update_figure()\n",
    "            plb.draw()\n",
    "            plb.pause(1e-3)\n",
    "            \n",
    "            # check for rewards\n",
    "            if self.mountain_car.R > 0.0:\n",
    "                print(\"\\rreward obtained at t = \", self.mountain_car.t)\n",
    "                break\n",
    "\n",
    "    def learn(self):\n",
    "        # This is your job!\n",
    "        pass"
   ]
  },
  {
   "cell_type": "code",
   "execution_count": null,
   "metadata": {},
   "outputs": [],
   "source": [
    "if __name__ == \"__main__\":\n",
    "    d = DummyAgent()\n",
    "    d.visualize_trial()\n",
    "    plb.show()"
   ]
  },
  {
   "cell_type": "code",
   "execution_count": null,
   "metadata": {},
   "outputs": [],
   "source": [
    "# range for x neurons grid\n",
    "x_values = np.linspace(-150, 30, 20)\n",
    "\n",
    "# range for v neurons grid\n",
    "v_values = np.linspace(-15, 15, 20)\n",
    "\n",
    "# steps x and v\n",
    "delta_x = x_values[1] - x_values[0]\n",
    "delta_v = v_values[1] - v_values[0]\n",
    "\n",
    "# sigmas x and v\n",
    "sigma_x = np.array([delta_x] * len(x_values))\n",
    "sigma_v = np.array([delta_v] * len(v_values))\n",
    "\n",
    "# number of actions\n",
    "n_actions = 3\n",
    "\n",
    "# number of neurons\n",
    "n_neurons = len(x_values) * len(v_values)\n",
    "\n",
    "# weight matrix\n",
    "w = np.random.randn(n_actions, n_neurons)"
   ]
  },
  {
   "cell_type": "code",
   "execution_count": null,
   "metadata": {
    "collapsed": true
   },
   "outputs": [],
   "source": [
    "def r(x, v):\n",
    "    ''' get neuron activations for s = (x, v) '''\n",
    "    # x in rows, v in columns\n",
    "    part_x = np.reshape(np.divide((x_values - x) ** 2, sigma_x ** 2), (-1, 1))\n",
    "    part_v = np.reshape(np.divide((v_values - v) ** 2, sigma_v ** 2), (1, -1))\n",
    "    return np.exp(-(part_x + part_v))"
   ]
  },
  {
   "cell_type": "code",
   "execution_count": null,
   "metadata": {
    "collapsed": true
   },
   "outputs": [],
   "source": [
    "def get_Q(x, v, w):\n",
    "    ''' Get Q-function at given s = (x, v) with weights w '''\n",
    "    return np.reshape(w @ np.reshape(r(x, v), (-1, 1)), (-1,))"
   ]
  },
  {
   "cell_type": "code",
   "execution_count": null,
   "metadata": {
    "collapsed": true
   },
   "outputs": [],
   "source": [
    "def get_action_probas(Q, tau):\n",
    "    ''' get action probabilities as a vector '''\n",
    "    \n",
    "    vector = np.exp(Q / tau)\n",
    "    return vector / np.sum(vector)"
   ]
  },
  {
   "cell_type": "code",
   "execution_count": null,
   "metadata": {},
   "outputs": [],
   "source": [
    "def get_action(x, v, w, tau):\n",
    "    ''' Sample action for s = (x, v) and weights w with parameter tau '''\n",
    "    Q = get_Q(x, v, w)\n",
    "    action_probas = get_action_probas(Q, tau)\n",
    "    print(action_probas)\n",
    "    action = np.random.choice(range(n_actions), p = action_probas)\n",
    "    return action - 1"
   ]
  },
  {
   "cell_type": "code",
   "execution_count": null,
   "metadata": {},
   "outputs": [],
   "source": [
    "get_action(10, 10, w, 1)"
   ]
  },
  {
   "cell_type": "code",
   "execution_count": null,
   "metadata": {
    "collapsed": true
   },
   "outputs": [],
   "source": []
  }
 ],
 "metadata": {
  "kernelspec": {
   "display_name": "Python 3",
   "language": "python",
   "name": "python3"
  },
  "language_info": {
   "codemirror_mode": {
    "name": "ipython",
    "version": 3
   },
   "file_extension": ".py",
   "mimetype": "text/x-python",
   "name": "python",
   "nbconvert_exporter": "python",
   "pygments_lexer": "ipython3",
   "version": "3.6.3"
  }
 },
 "nbformat": 4,
 "nbformat_minor": 2
}
