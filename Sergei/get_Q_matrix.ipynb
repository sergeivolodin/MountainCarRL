{
 "cells": [
  {
   "cell_type": "code",
   "execution_count": 1,
   "metadata": {
    "collapsed": true
   },
   "outputs": [],
   "source": [
    "import sys\n",
    "%matplotlib inline\n",
    "import pylab as plb\n",
    "from tqdm import tqdm\n",
    "import numpy as np\n",
    "import mountaincar\n",
    "from IPython.display import Image\n",
    "from matplotlib import pyplot as plt\n",
    "import gc, pickle, json, itertools\n",
    "from sarsa_agent import *\n",
    "from multiprocessing import Pool\n",
    "import json"
   ]
  },
  {
   "cell_type": "code",
   "execution_count": 4,
   "metadata": {
    "collapsed": true
   },
   "outputs": [],
   "source": [
    "results = pickle.load(open('results_lambda_.p', 'rb'))\n",
    "# grouping agents by their lambda_\n",
    "lambda_s = [0.1, 0.2, 0.3, 0.4, 0.5, 0.6, 0.7, 0.8, 0.9, 0.99, 0.999, 0.9999, 1]\n",
    "num_agents = 3\n",
    "lambda__to_agents = {lambda_: [results[key] for key in results.keys() if key[1] == lambda_] for lambda_ in lambda_s}\n",
    "iterations = 60\n",
    "assert all([len(x) == num_agents for x in lambda__to_agents.values()]), \"Cannot retrieve agents\""
   ]
  },
  {
   "cell_type": "code",
   "execution_count": null,
   "metadata": {
    "collapsed": true
   },
   "outputs": [],
   "source": []
  },
  {
   "cell_type": "code",
   "execution_count": null,
   "metadata": {
    "collapsed": true
   },
   "outputs": [],
   "source": [
    "lambdas = [0.99, 0.999, 0.9999]\n",
    "res = []\n",
    "for l in lambdas:\n",
    "    for agent in lambda__to_agents[l]:\n",
    "        res += list(agent.get_Q_matrix()[1].flatten())"
   ]
  },
  {
   "cell_type": "code",
   "execution_count": 42,
   "metadata": {},
   "outputs": [
    {
     "data": {
      "image/png": "[encoded data removed]",
      "text/plain": [
       "<Figure size 432x72 with 1 Axes>"
      ]
     },
     "metadata": {},
     "output_type": "display_data"
    }
   ],
   "source": [
    "plt.figure(figsize = (6, 1))\n",
    "plt.title('Distribution of Q-values')\n",
    "plt.xlabel('Q(s, a)')\n",
    "plt.boxplot(np.array(res) / 1e-4, vert = False, labels = [\"\"])\n",
    "plt.show()"
   ]
  },
  {
   "cell_type": "code",
   "execution_count": null,
   "metadata": {
    "collapsed": true
   },
   "outputs": [],
   "source": []
  }
 ],
 "metadata": {
  "kernelspec": {
   "display_name": "Python 3",
   "language": "python",
   "name": "python3"
  },
  "language_info": {
   "codemirror_mode": {
    "name": "ipython",
    "version": 3
   },
   "file_extension": ".py",
   "mimetype": "text/x-python",
   "name": "python",
   "nbconvert_exporter": "python",
   "pygments_lexer": "ipython3",
   "version": "3.6.3"
  }
 },
 "nbformat": 4,
 "nbformat_minor": 2
}
